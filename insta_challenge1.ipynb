{
 "cells": [
  {
   "cell_type": "markdown",
   "source": [
    "Consider the following algorithm:\n",
    "Let consider a point A(x,y) on our blank canvas,\n",
    "\n",
    "From point A draw a vertical line of length l.\n",
    "When length l is reached stop the procedure.\n",
    "Mark down S the new endpoint of the segment obtained.\n",
    "\n",
    "From S, breaches 2 new segments of length 75% that of the previous segment obtained\n",
    "These new branches have each an inclination of 15degrees from the previous segment\n",
    "Hence making a 30 degrees angle between one another.\n",
    "\n",
    "When length m of the segments is reached stop the procedure.\n",
    "Mark down the new endpoints of the segments obtained.\n",
    "If 2 segments intercept each other:\n",
    "stop the procedure (stop drawing the lines)\n",
    "\n",
    "\n"
   ],
   "metadata": {
    "collapsed": false
   }
  },
  {
   "cell_type": "code",
   "execution_count": null,
   "outputs": [],
   "source": [
    "import turtle\n",
    "import math\n",
    "\n",
    "def draw_line(x,y,l):\n",
    "    turtle.begin_fill()\n"
   ],
   "metadata": {
    "collapsed": false,
    "pycharm": {
     "is_executing": true
    }
   }
  },
  {
   "cell_type": "code",
   "execution_count": null,
   "outputs": [],
   "source": [
    "for i in range(30):\n",
    "    turtle.pendown()\n",
    "    turtle.forward(5)\n",
    "    turtle.penup()\n",
    "    turtle.forward(5)"
   ],
   "metadata": {
    "collapsed": false
   }
  }
 ],
 "metadata": {
  "kernelspec": {
   "display_name": "Python 3",
   "language": "python",
   "name": "python3"
  },
  "language_info": {
   "codemirror_mode": {
    "name": "ipython",
    "version": 2
   },
   "file_extension": ".py",
   "mimetype": "text/x-python",
   "name": "python",
   "nbconvert_exporter": "python",
   "pygments_lexer": "ipython2",
   "version": "2.7.6"
  }
 },
 "nbformat": 4,
 "nbformat_minor": 0
}
