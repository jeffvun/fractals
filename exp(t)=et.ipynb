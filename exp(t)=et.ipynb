{
 "cells": [
  {
   "cell_type": "markdown",
   "source": [
    "# Let solve exp(t) = et with numerical values"
   ],
   "metadata": {
    "collapsed": false
   }
  },
  {
   "cell_type": "code",
   "execution_count": null,
   "outputs": [],
   "source": [
    "import math\n",
    "\n",
    "for i in range(0,1000):\n",
    "    if math.exp(i)== (math.e * i):\n",
    "        print(i)\n",
    "\n"
   ],
   "metadata": {
    "collapsed": false,
    "pycharm": {
     "is_executing": true
    }
   }
  },
  {
   "cell_type": "code",
   "execution_count": null,
   "outputs": [],
   "source": [
    "from scipy.optimize import fsolve\n",
    "import math\n",
    "def equation(t):\n",
    "    return math.exp(t) - math.e*t\n",
    "\n",
    "# Solve the equation\n",
    "solution = fsolve(equation, 1)  # Provide an initial guess, such as 1\n",
    "print(solution)  # Output: [0.56714329]\n",
    "\n"
   ],
   "metadata": {
    "collapsed": false
   }
  }
 ],
 "metadata": {
  "kernelspec": {
   "display_name": "Python 3",
   "language": "python",
   "name": "python3"
  },
  "language_info": {
   "codemirror_mode": {
    "name": "ipython",
    "version": 2
   },
   "file_extension": ".py",
   "mimetype": "text/x-python",
   "name": "python",
   "nbconvert_exporter": "python",
   "pygments_lexer": "ipython2",
   "version": "2.7.6"
  }
 },
 "nbformat": 4,
 "nbformat_minor": 0
}
